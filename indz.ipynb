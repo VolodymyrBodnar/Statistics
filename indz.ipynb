{
 "cells": [
  {
   "cell_type": "code",
   "execution_count": 22,
   "metadata": {
    "collapsed": true
   },
   "outputs": [],
   "source": [
    "import numpy as np\n",
    "from scipy import stats \n",
    "\n",
    "import matplotlib.pyplot as plt\n",
    "%matplotlib inline"
   ]
  },
  {
   "cell_type": "markdown",
   "metadata": {},
   "source": [
    "# I. Первинна обробка вибірки.\n",
    "\n",
    "За вибірками А (парні варіанти) і В (непарні варіанти) скласти варіаційний ряд, обчислити\n",
    "відносні частоти, побудувати графіки варіаційного ряду (гістограму і полігон відносних\n",
    "частот), побудувати емпіричну функцію розподілу, обчислити числові\n",
    "характеристики варіаційного ряду: вибіркове середне, дисперсію, середне\n",
    "квадратичне відхилення, моду та медіану, коефіцієнт асиметрії та ексцес. "
   ]
  },
  {
   "cell_type": "code",
   "execution_count": 23,
   "metadata": {},
   "outputs": [
    {
     "name": "stdout",
     "output_type": "stream",
     "text": [
      "Варіаційний ряд = \n",
      " [ 2  3  3  3  3  3  3  4  4  4  4  4  5  5  5  5  5  5  5  5  5  5  5  6  6\n",
      "  6  6  6  6  6  6  6  6  6  7  7  7  7  7  7  7  7  7  7  7  7  7  7  7  8\n",
      "  8  8  8  8  8  8  8  8  8  9  9  9  9  9  9  9 10 10 10 10 10 11 11 11 11\n",
      " 11 11 11 11 11 11 12 12 12 12 12 13 14 14]\n",
      "\n",
      " Відносні частоти = \n",
      "  [ 0.01123596  0.06741573  0.05617978  0.12359551  0.12359551  0.16853933\n",
      "  0.19101124  0.05617978  0.11235955  0.05617978  0.01123596  0.02247191]\n"
     ]
    }
   ],
   "source": [
    "a = np.array([ 11, 6, 7, 8, 7, 3, 7, 3, 3,12, 7, 9,12, 5,10,\n",
    "                4, 7, 2, 7, 7, 4, 5,11, 5, 5, 6, 4, 5, 8, 9,\n",
    "                8,12, 5, 6, 7,10,11, 9,13, 9, 3, 8,11, 9, 7,\n",
    "               12, 6, 6,14,11, 9, 8,14, 6, 4,10, 8, 4, 6, 8,\n",
    "                3, 6, 6, 7, 7, 6,10,11, 3,11, 8, 5, 8,11,11,\n",
    "                6,11, 7, 8, 7,12, 5, 5, 9, 5, 7,10, 5, 7]) \n",
    "\n",
    "x = np.array([40, 40, 42, 41, 42, 41, 40, 41, 41, 39, 38, 39, 42, 40, 40, 41])\n",
    "\n",
    "\n",
    "df_sorted = np.sort(a)\n",
    "print('Варіаційний ряд = \\n',df_sorted)\n",
    "\n",
    "relative_frequency = stats.relfreq(a, numbins=12)\n",
    "print('\\n Відносні частоти = \\n ',relative_frequency.frequency)\n"
   ]
  },
  {
   "cell_type": "markdown",
   "metadata": {},
   "source": [
    "### Гістограма  та полігон відносних частот\n"
   ]
  },
  {
   "cell_type": "code",
   "execution_count": 24,
   "metadata": {
    "scrolled": true
   },
   "outputs": [
    {
     "data": {
      "image/png": "[encoded data removed]",
      "text/plain": [
       "<matplotlib.figure.Figure at 0x7f2c924de6d8>"
      ]
     },
     "metadata": {},
     "output_type": "display_data"
    }
   ],
   "source": [
    "plt.hist(a, 10)\n",
    "plt.show()"
   ]
  },
  {
   "cell_type": "code",
   "execution_count": 25,
   "metadata": {},
   "outputs": [
    {
     "data": {
      "image/png": "[encoded data removed]",
      "text/plain": [
       "<matplotlib.figure.Figure at 0x7f2c92367748>"
      ]
     },
     "metadata": {},
     "output_type": "display_data"
    }
   ],
   "source": [
    "plt.plot(relative_frequency.frequency, marker='o', color='b')\n",
    "plt.show()"
   ]
  },
  {
   "cell_type": "markdown",
   "metadata": {},
   "source": [
    "### Емпірична функція розподілу"
   ]
  },
  {
   "cell_type": "code",
   "execution_count": 27,
   "metadata": {},
   "outputs": [
    {
     "data": {
      "image/png": "[encoded data removed]",
      "text/plain": [
       "<matplotlib.figure.Figure at 0x7f2c8ba699e8>"
      ]
     },
     "metadata": {},
     "output_type": "display_data"
    }
   ],
   "source": [
    "from statsmodels.distributions.empirical_distribution import ECDF    \n",
    "cdf = ECDF(a)\n",
    "plt.step(cdf.x, cdf.y)\n",
    "\n",
    "#counts, bin_edges = np.histogram(a, bins=12)\n",
    "\n",
    "#ecdf = np.cumsum(counts)\n",
    "#ecdf = ecdf/ecdf[-1]\n",
    "\n",
    "\n",
    "#plt.step(bin_edges[1:], ecdf)\n",
    "\n",
    "plt.show()\n"
   ]
  },
  {
   "cell_type": "markdown",
   "metadata": {},
   "source": [
    "### Описові статистики\n",
    "\n",
    "     "
   ]
  },
  {
   "cell_type": "code",
   "execution_count": 17,
   "metadata": {},
   "outputs": [
    {
     "name": "stdout",
     "output_type": "stream",
     "text": [
      "вибіркове середнє 7.52808988764\n",
      "вибіркова дисперсія =  7.93386108274\n",
      "середне квадратичне відхилення =  2.81671103998\n",
      "модa =  [7]\n",
      "медіанa =  7.0\n",
      "асиметрія =  0.2586499093910767\n",
      "ексцесс =  -0.6594167514610771\n"
     ]
    },
    {
     "data": {
      "text/plain": [
       "DescribeResult(nobs=89, minmax=(2, 14), mean=7.5280898876404496, variance=7.9338610827374856, skewness=0.2586499093910767, kurtosis=-0.6594167514610771)"
      ]
     },
     "execution_count": 17,
     "metadata": {},
     "output_type": "execute_result"
    }
   ],
   "source": [
    "dscp = stats.describe(a)\n",
    "\n",
    "\n",
    "print('вибіркове середнє', dscp.mean ) \n",
    "print('вибіркова дисперсія = ',dscp.variance)\n",
    "print('середне квадратичне відхилення = ',a.std(ddof=1))\n",
    "print('модa = ', stats.mode(a)[0])\n",
    "print('медіанa = ', np.median(a))\n",
    "print('асиметрія = ', dscp.skewness)\n",
    "print('ексцесс = ', dscp.kurtosis)\n",
    "dscp"
   ]
  },
  {
   "cell_type": "markdown",
   "metadata": {},
   "source": [
    "# II. Оцінки параметрів розподілу.\n",
    "2. Обчислити незміщені оцінки математичного сподівання, дисперсії та середнього\n",
    "квадратичного відхилення генеральних сукупностей за вибірками А (парні варіанти), В\n",
    "(непарні варіанти) і першим стовпцем X вибірки С (усі варіанти).\n",
    "3. Знайти довірчі інтервали для математичного сподівання, дисперсії та середнього\n",
    "квадратичного відхилення генеральної сукупності за першим стовпцем X вибірки С з\n",
    "довірчою ймовірністю\n",
    "$\\gamma$\n",
    ", де $\\gamma = 0.8$"
   ]
  },
  {
   "cell_type": "code",
   "execution_count": 18,
   "metadata": {},
   "outputs": [
    {
     "name": "stdout",
     "output_type": "stream",
     "text": [
      "\n",
      "Вибіркове середнє A = 7.52808988764045, \n",
      "Незміщена вибіркова дисперсія  A = 7.933861082737486, \n",
      "Незміщене вибіркове середнє квадратичне відхиленя A =  2.816711039978628 \n"
     ]
    }
   ],
   "source": [
    "a_mean = a.mean()\n",
    "a_var = a.var(ddof = 1)\n",
    "a_std = a.std(ddof =1)\n",
    "print('''\n",
    "Вибіркове середнє A = {}, \n",
    "Незміщена вибіркова дисперсія  A = {}, \n",
    "Незміщене вибіркове середнє квадратичне відхиленя A =  {} \n",
    "'''.format(a_mean, a_var, a_std))"
   ]
  },
  {
   "cell_type": "code",
   "execution_count": 19,
   "metadata": {},
   "outputs": [
    {
     "name": "stdout",
     "output_type": "stream",
     "text": [
      "\n",
      "Вибіркове середнє X = 40.4375, \n",
      "Незміщена вибіркова дисперсія  X = 1.3291666666666666, \n",
      "Незміщене вибіркове середнє квадратичне відхиленя X =  1.1528949070347507 \n",
      "\n"
     ]
    }
   ],
   "source": [
    "x_mean = x.mean()\n",
    "x_var =  x.var(ddof = 1)\n",
    "x_std = x.std(ddof = 1)\n",
    "print('''\n",
    "Вибіркове середнє X = {}, \n",
    "Незміщена вибіркова дисперсія  X = {}, \n",
    "Незміщене вибіркове середнє квадратичне відхиленя X =  {} \n",
    "'''.format(x_mean, x_var, x_std))"
   ]
  },
  {
   "cell_type": "markdown",
   "metadata": {},
   "source": [
    "### довірчі інтервали"
   ]
  },
  {
   "cell_type": "code",
   "execution_count": 20,
   "metadata": {},
   "outputs": [
    {
     "data": {
      "text/plain": [
       "(38.891922622366984, 41.983077377633016)"
      ]
     },
     "execution_count": 20,
     "metadata": {},
     "output_type": "execute_result"
    }
   ],
   "source": [
    "stats.t.interval(0.80, len(x)-1, loc=x_mean, scale=x_std)"
   ]
  },
  {
   "cell_type": "code",
   "execution_count": 21,
   "metadata": {},
   "outputs": [
    {
     "data": {
      "text/plain": [
       "(38.960005726981215, 41.914994273018785)"
      ]
     },
     "execution_count": 21,
     "metadata": {},
     "output_type": "execute_result"
    }
   ],
   "source": [
    "stats.norm.interval(0.80, x_mean, scale=x_std)"
   ]
  },
  {
   "cell_type": "markdown",
   "metadata": {},
   "source": [
    "Довірчим інтервалом для  $S^2$  буде інтервал (T1,T2), де $T_1 = \\frac{nS^2}{u_2} $,  a $ T_2 = \\frac{nS^2}{u_1}$  $u_1 = \\chi^2_{inv}(\\frac{1-\\gamma}{2},n)$, a $u_2 = \\chi^2_{inv}((\\frac{1+\\gamma}{2},n)$\n"
   ]
  },
  {
   "cell_type": "code",
   "execution_count": 22,
   "metadata": {},
   "outputs": [
    {
     "name": "stdout",
     "output_type": "stream",
     "text": [
      " довірчий інтервал [0.9033566056459887, 2.283733558587954]\n"
     ]
    }
   ],
   "source": [
    "u_1 = stats.chi2.ppf((1-0.8)/2, len(x))\n",
    "u_2 = stats.chi2.ppf((1+0.8)/2, len(x))\n",
    "\n",
    "T1 = (len(x)*x_var)/u_2\n",
    "T2 = (len(x)*x_var)/u_1\n",
    "\n",
    "print(' довірчий інтервал [{}, {}]'.format(T1,T2))"
   ]
  },
  {
   "cell_type": "markdown",
   "metadata": {},
   "source": [
    "Довірчим інтервалом для $\\sigma$ буде інтервал $(\\sqrt{T1},\\sqrt{T2})$, де $T_1, T_2$ розраховані вище\n"
   ]
  },
  {
   "cell_type": "code",
   "execution_count": 23,
   "metadata": {},
   "outputs": [
    {
     "name": "stdout",
     "output_type": "stream",
     "text": [
      " довірчий інтервал [0.950450738147953, 1.5112026861370893]\n"
     ]
    }
   ],
   "source": [
    "print(' довірчий інтервал [{}, {}]'.format(np.sqrt(T1),np.sqrt(T2)))"
   ]
  },
  {
   "cell_type": "markdown",
   "metadata": {},
   "source": [
    "### Довірчий інтервал для вибірки А (з розподілу Пуасона)"
   ]
  },
  {
   "cell_type": "code",
   "execution_count": 24,
   "metadata": {},
   "outputs": [
    {
     "data": {
      "text/plain": [
       "(3.0, 13.0)"
      ]
     },
     "execution_count": 24,
     "metadata": {},
     "output_type": "execute_result"
    }
   ],
   "source": [
    "stats.poisson.interval(0.95, mu=a_mean)\n"
   ]
  },
  {
   "cell_type": "markdown",
   "metadata": {},
   "source": [
    "# III. Статистичні гіпотези.\n",
    "\n",
    "## 1)\n",
    "За першим стовпцем X вибірки С при рівні значушості $\\alpha$ перевірити\n",
    "гіпотезу про математичне сподівання $Н_0: а = а_0$ при альтернативній гіпотезі\n",
    "$H_1$, якшо $\\sigma$ -невідоме, де \n",
    "$$a_0 = \\bar{[x]}-3 $$\n",
    "$H_1 = a > a_0, ~~ \\alpha = 0.01$"
   ]
  },
  {
   "cell_type": "markdown",
   "metadata": {},
   "source": [
    "### Проведемо t- тест \"вручну\""
   ]
  },
  {
   "cell_type": "code",
   "execution_count": 26,
   "metadata": {},
   "outputs": [
    {
     "data": {
      "text/plain": [
       "11.926499038290526"
      ]
     },
     "execution_count": 26,
     "metadata": {},
     "output_type": "execute_result"
    }
   ],
   "source": [
    "a_0 = np.floor(x.mean()) -3\n",
    "\n",
    "t_stat = (x_mean - a_0)/(x.std()/np.sqrt(len(x)-1))\n",
    "t_stat"
   ]
  },
  {
   "cell_type": "markdown",
   "metadata": {},
   "source": [
    "### тепер порівняємо із вбудованим тестом"
   ]
  },
  {
   "cell_type": "code",
   "execution_count": 27,
   "metadata": {},
   "outputs": [
    {
     "data": {
      "text/plain": [
       "Ttest_1sampResult(statistic=11.926499038290526, pvalue=4.7011780874262301e-09)"
      ]
     },
     "execution_count": 27,
     "metadata": {},
     "output_type": "execute_result"
    }
   ],
   "source": [
    "stats.ttest_1samp(x, a_0)"
   ]
  },
  {
   "cell_type": "markdown",
   "metadata": {},
   "source": [
    "### Висновок\n",
    "\n",
    "Оскільки для правосторонньої гіопотези $H_1: a > a_0 $ при заданому рівні значущості $\\alpha= 0.01$ $t_{критичне} = 2.602$, а наша отримана статистика   $t = 11.92649 $ значно більша, \n",
    "то нульову гіпотезу відхтляємо на користь альтернативної. "
   ]
  },
  {
   "cell_type": "markdown",
   "metadata": {},
   "source": [
    "## 2)\n",
    "За вибіркою А при рівні значущості $\\alpha = 0.01$ за критерієм узгодженості $\\chi^2$\n",
    "перевірити гіпотезу про розподіл Пуассона відповідної генеральної сукупності."
   ]
  },
  {
   "cell_type": "code",
   "execution_count": 29,
   "metadata": {},
   "outputs": [
    {
     "data": {
      "text/plain": [
       "array([[ 2,  1],\n",
       "       [ 3,  6],\n",
       "       [ 4,  5],\n",
       "       [ 5, 11],\n",
       "       [ 6, 11],\n",
       "       [ 7, 15],\n",
       "       [ 8, 10],\n",
       "       [ 9,  7],\n",
       "       [10,  5],\n",
       "       [11, 10],\n",
       "       [12,  5],\n",
       "       [13,  1],\n",
       "       [14,  2]])"
      ]
     },
     "execution_count": 29,
     "metadata": {},
     "output_type": "execute_result"
    }
   ],
   "source": [
    "# побудуємо частотний ряд\n",
    "unique, counts = np.unique(a, return_counts=True)\n",
    "freeq_array = np.array((unique, counts)).T\n",
    "\n",
    "freeq_array"
   ]
  },
  {
   "cell_type": "code",
   "execution_count": 30,
   "metadata": {},
   "outputs": [
    {
     "data": {
      "text/plain": [
       "[0.015238130865064684,\n",
       " 0.038238006290611783,\n",
       " 0.071964787119971604,\n",
       " 0.10835147723681117,\n",
       " 0.13594661001622371,\n",
       " 0.14620261430316192,\n",
       " 0.13757830278527874,\n",
       " 0.11507798110628803,\n",
       " 0.086631738585632626,\n",
       " 0.059288319563201186,\n",
       " 0.037193983246577543,\n",
       " 0.021538434550740639,\n",
       " 0.011581662238359712]"
      ]
     },
     "execution_count": 30,
     "metadata": {},
     "output_type": "execute_result"
    }
   ],
   "source": [
    "prob = [stats.poisson.pmf(k, a_mean) for k in  freeq_array.T[0]] \n",
    "prob"
   ]
  },
  {
   "cell_type": "markdown",
   "metadata": {},
   "source": [
    "теоретичну частоту рохрахуємо за формулою йомовірність з розподілу Пуасона  помножити на розмір вибірки"
   ]
  },
  {
   "cell_type": "code",
   "execution_count": 31,
   "metadata": {
    "collapsed": true
   },
   "outputs": [],
   "source": [
    "theoretical_freeq = np.array([p*len(a) for p in prob])"
   ]
  },
  {
   "cell_type": "code",
   "execution_count": 32,
   "metadata": {},
   "outputs": [
    {
     "name": "stdout",
     "output_type": "stream",
     "text": [
      "Хі квадрат = 11.8084995316\n"
     ]
    }
   ],
   "source": [
    "difference = [(counts[i] - theoretical_freeq[i]) for i in range(len(counts))  ]\n",
    "\n",
    "chi_sqr = sum([((difference[i]**2)/theoretical_freeq[i]) for i in range(len(difference))])\n",
    "\n",
    "print('Хі квадрат =',chi_sqr)\n"
   ]
  },
  {
   "cell_type": "code",
   "execution_count": 33,
   "metadata": {},
   "outputs": [
    {
     "data": {
      "text/plain": [
       "[-0.35619364699075695,\n",
       " 2.5968174401355513,\n",
       " -1.4048660536774724,\n",
       " 1.3567185259238066,\n",
       " -1.0992482914439101,\n",
       " 1.9879673270185894,\n",
       " -2.2444689478898088,\n",
       " -3.2419403184596352,\n",
       " -2.7102247341213035,\n",
       " 4.7233395588750948,\n",
       " 1.6897354910545985,\n",
       " -0.9169206750159169,\n",
       " 0.96923206078598567]"
      ]
     },
     "execution_count": 33,
     "metadata": {},
     "output_type": "execute_result"
    }
   ],
   "source": [
    "difference"
   ]
  },
  {
   "cell_type": "code",
   "execution_count": 72,
   "metadata": {},
   "outputs": [
    {
     "name": "stdout",
     "output_type": "stream",
     "text": [
      "кількість степенів свободи = 11, critical value = 24.72497031131828\n"
     ]
    }
   ],
   "source": [
    "#визначимо критичне значення  хі квадрат\n",
    "k = len(counts) -1 -1\n",
    "chi_crit = stats.chi2.ppf(q = 0.99, df = k)\n",
    "print('кількість степенів свободи = {}, critical value = {}'.format(k,chi_crit))"
   ]
  },
  {
   "cell_type": "markdown",
   "metadata": {},
   "source": [
    "## Висновок\n",
    "Оскільки отримана статистика $\\chi^2 = 11.8084 < \\chi_{критичне}^2$ ,то ми  приймаємо гіпотезу\n",
    "про те що дана вибірка підпорядковується розподілу Пуасона."
   ]
  },
  {
   "cell_type": "markdown",
   "metadata": {},
   "source": [
    "# V. Кореляційний зв'язок. Регресія.\n",
    "\n",
    "За вибіркою С побудувати кореляційне поле для двовимірної вибірки XY,\n",
    "знайти вибірковий коефіцієнт кореляції, лінійні функції регресії та побудувати їх графіки.\n"
   ]
  },
  {
   "cell_type": "code",
   "execution_count": 15,
   "metadata": {},
   "outputs": [
    {
     "data": {
      "image/png": "[encoded data removed]",
      "text/plain": [
       "<matplotlib.figure.Figure at 0x7f2c921fffd0>"
      ]
     },
     "metadata": {},
     "output_type": "display_data"
    },
    {
     "name": "stdout",
     "output_type": "stream",
     "text": [
      "Коефіцієнт кореляції =  0.513425168668\n"
     ]
    }
   ],
   "source": [
    "x = np.array([40, 40, 42, 41, 42, 41, 40, 41, 41, 39, 38, 39, 42, 40, 40, 41,\n",
    "              40, 39, 41, 42, 41, 42, 40, 41, 42, 40, 41, 40, 42, 40, 42, 41,\n",
    "              41, 40, 41, 40, 41, 42, 42, 40, 40, 41, 40, 41, 41, 40, 41, 39,\n",
    "              40, 40, 41, 40, 41, 40, 41, 39, 41, 41, 40, 41, 39, 41, 40])\n",
    "\n",
    "y = [209, 201, 214, 222, 210, 219, 208, 208, 206, 200, 209, 202, 212, 206, 216, 220,\n",
    "     212, 204, 224, 223, 215, 214, 210, 207, 215, 203, 207, 212, 226, 204, 221, 220,\n",
    "     224, 213, 216, 213, 209, 225, 219, 215, 214, 223, 209, 220, 205, 212, 218, 210,\n",
    "     219, 204, 205, 217, 217, 202, 219, 213, 219, 208, 201, 216, 212, 217, 216]\n",
    "\n",
    "plt.scatter(x,y)\n",
    "plt.show()\n",
    "\n",
    "corelation = stats.stats.pearsonr(x,y,)\n",
    "\n",
    "print('Коефіцієнт кореляції = ', corelation[0])"
   ]
  },
  {
   "cell_type": "code",
   "execution_count": 32,
   "metadata": {},
   "outputs": [
    {
     "ename": "ValueError",
     "evalue": "all the input array dimensions except for the concatenation axis must match exactly",
     "output_type": "error",
     "traceback": [
      "\u001b[0;31m---------------------------------------------------------------------------\u001b[0m",
      "\u001b[0;31mValueError\u001b[0m                                Traceback (most recent call last)",
      "\u001b[0;32m<ipython-input-32-8c36b352bfef>\u001b[0m in \u001b[0;36m<module>\u001b[0;34m()\u001b[0m\n\u001b[0;32m----> 1\u001b[0;31m \u001b[0mregression\u001b[0m \u001b[0;34m=\u001b[0m \u001b[0mstats\u001b[0m\u001b[0;34m.\u001b[0m\u001b[0mlinregress\u001b[0m\u001b[0;34m(\u001b[0m\u001b[0mx\u001b[0m\u001b[0;34m,\u001b[0m\u001b[0my\u001b[0m\u001b[0;34m)\u001b[0m\u001b[0;34m\u001b[0m\u001b[0m\n\u001b[0m\u001b[1;32m      2\u001b[0m \u001b[0mb_0\u001b[0m \u001b[0;34m=\u001b[0m \u001b[0mregression\u001b[0m\u001b[0;34m.\u001b[0m\u001b[0mintercept\u001b[0m\u001b[0;34m\u001b[0m\u001b[0m\n\u001b[1;32m      3\u001b[0m \u001b[0mb_1\u001b[0m \u001b[0;34m=\u001b[0m \u001b[0mregression\u001b[0m\u001b[0;34m.\u001b[0m\u001b[0mslope\u001b[0m\u001b[0;34m\u001b[0m\u001b[0m\n\u001b[1;32m      4\u001b[0m \u001b[0;34m\u001b[0m\u001b[0m\n\u001b[1;32m      5\u001b[0m \u001b[0;31m#def y_expected(x):\u001b[0m\u001b[0;34m\u001b[0m\u001b[0;34m\u001b[0m\u001b[0m\n",
      "\u001b[0;32m~/anaconda/lib/python3.6/site-packages/scipy/stats/_stats_mstats_common.py\u001b[0m in \u001b[0;36mlinregress\u001b[0;34m(x, y)\u001b[0m\n\u001b[1;32m     90\u001b[0m \u001b[0;34m\u001b[0m\u001b[0m\n\u001b[1;32m     91\u001b[0m     \u001b[0;31m# average sum of squares:\u001b[0m\u001b[0;34m\u001b[0m\u001b[0;34m\u001b[0m\u001b[0m\n\u001b[0;32m---> 92\u001b[0;31m     \u001b[0mssxm\u001b[0m\u001b[0;34m,\u001b[0m \u001b[0mssxym\u001b[0m\u001b[0;34m,\u001b[0m \u001b[0mssyxm\u001b[0m\u001b[0;34m,\u001b[0m \u001b[0mssym\u001b[0m \u001b[0;34m=\u001b[0m \u001b[0mnp\u001b[0m\u001b[0;34m.\u001b[0m\u001b[0mcov\u001b[0m\u001b[0;34m(\u001b[0m\u001b[0mx\u001b[0m\u001b[0;34m,\u001b[0m \u001b[0my\u001b[0m\u001b[0;34m,\u001b[0m \u001b[0mbias\u001b[0m\u001b[0;34m=\u001b[0m\u001b[0;36m1\u001b[0m\u001b[0;34m)\u001b[0m\u001b[0;34m.\u001b[0m\u001b[0mflat\u001b[0m\u001b[0;34m\u001b[0m\u001b[0m\n\u001b[0m\u001b[1;32m     93\u001b[0m     \u001b[0mr_num\u001b[0m \u001b[0;34m=\u001b[0m \u001b[0mssxym\u001b[0m\u001b[0;34m\u001b[0m\u001b[0m\n\u001b[1;32m     94\u001b[0m     \u001b[0mr_den\u001b[0m \u001b[0;34m=\u001b[0m \u001b[0mnp\u001b[0m\u001b[0;34m.\u001b[0m\u001b[0msqrt\u001b[0m\u001b[0;34m(\u001b[0m\u001b[0mssxm\u001b[0m \u001b[0;34m*\u001b[0m \u001b[0mssym\u001b[0m\u001b[0;34m)\u001b[0m\u001b[0;34m\u001b[0m\u001b[0m\n",
      "\u001b[0;32m~/anaconda/lib/python3.6/site-packages/numpy/lib/function_base.py\u001b[0m in \u001b[0;36mcov\u001b[0;34m(m, y, rowvar, bias, ddof, fweights, aweights)\u001b[0m\n\u001b[1;32m   2430\u001b[0m         \u001b[0;32mif\u001b[0m \u001b[0mrowvar\u001b[0m \u001b[0;34m==\u001b[0m \u001b[0;36m0\u001b[0m \u001b[0;32mand\u001b[0m \u001b[0my\u001b[0m\u001b[0;34m.\u001b[0m\u001b[0mshape\u001b[0m\u001b[0;34m[\u001b[0m\u001b[0;36m0\u001b[0m\u001b[0;34m]\u001b[0m \u001b[0;34m!=\u001b[0m \u001b[0;36m1\u001b[0m\u001b[0;34m:\u001b[0m\u001b[0;34m\u001b[0m\u001b[0m\n\u001b[1;32m   2431\u001b[0m             \u001b[0my\u001b[0m \u001b[0;34m=\u001b[0m \u001b[0my\u001b[0m\u001b[0;34m.\u001b[0m\u001b[0mT\u001b[0m\u001b[0;34m\u001b[0m\u001b[0m\n\u001b[0;32m-> 2432\u001b[0;31m         \u001b[0mX\u001b[0m \u001b[0;34m=\u001b[0m \u001b[0mnp\u001b[0m\u001b[0;34m.\u001b[0m\u001b[0mvstack\u001b[0m\u001b[0;34m(\u001b[0m\u001b[0;34m(\u001b[0m\u001b[0mX\u001b[0m\u001b[0;34m,\u001b[0m \u001b[0my\u001b[0m\u001b[0;34m)\u001b[0m\u001b[0;34m)\u001b[0m\u001b[0;34m\u001b[0m\u001b[0m\n\u001b[0m\u001b[1;32m   2433\u001b[0m \u001b[0;34m\u001b[0m\u001b[0m\n\u001b[1;32m   2434\u001b[0m     \u001b[0;32mif\u001b[0m \u001b[0mddof\u001b[0m \u001b[0;32mis\u001b[0m \u001b[0;32mNone\u001b[0m\u001b[0;34m:\u001b[0m\u001b[0;34m\u001b[0m\u001b[0m\n",
      "\u001b[0;32m~/anaconda/lib/python3.6/site-packages/numpy/core/shape_base.py\u001b[0m in \u001b[0;36mvstack\u001b[0;34m(tup)\u001b[0m\n\u001b[1;32m    228\u001b[0m \u001b[0;34m\u001b[0m\u001b[0m\n\u001b[1;32m    229\u001b[0m     \"\"\"\n\u001b[0;32m--> 230\u001b[0;31m     \u001b[0;32mreturn\u001b[0m \u001b[0m_nx\u001b[0m\u001b[0;34m.\u001b[0m\u001b[0mconcatenate\u001b[0m\u001b[0;34m(\u001b[0m\u001b[0;34m[\u001b[0m\u001b[0matleast_2d\u001b[0m\u001b[0;34m(\u001b[0m\u001b[0m_m\u001b[0m\u001b[0;34m)\u001b[0m \u001b[0;32mfor\u001b[0m \u001b[0m_m\u001b[0m \u001b[0;32min\u001b[0m \u001b[0mtup\u001b[0m\u001b[0;34m]\u001b[0m\u001b[0;34m,\u001b[0m \u001b[0;36m0\u001b[0m\u001b[0;34m)\u001b[0m\u001b[0;34m\u001b[0m\u001b[0m\n\u001b[0m\u001b[1;32m    231\u001b[0m \u001b[0;34m\u001b[0m\u001b[0m\n\u001b[1;32m    232\u001b[0m \u001b[0;32mdef\u001b[0m \u001b[0mhstack\u001b[0m\u001b[0;34m(\u001b[0m\u001b[0mtup\u001b[0m\u001b[0;34m)\u001b[0m\u001b[0;34m:\u001b[0m\u001b[0;34m\u001b[0m\u001b[0m\n",
      "\u001b[0;31mValueError\u001b[0m: all the input array dimensions except for the concatenation axis must match exactly"
     ]
    }
   ],
   "source": [
    "regression = stats.linregress(x,y) \n",
    "b_0 = regression.intercept\n",
    "b_1 = regression.slope\n",
    "\n",
    "#def y_expected(x):\n",
    "#    return (b_0 + b_1*x)\n",
    "\n",
    "#print('Коефіцієнт бета_0 = {}, Коефіцієнт бета_1 = {}'.format(b_0,b_1))\n",
    "\n",
    "regression_x = stats.linregress(y,x) \n",
    "a_0 = regression_x.intercept\n",
    "a_1 = regression_x.slope\n",
    "\n",
    "#plt.plot(x, y,'o', x, y_expected(x),'r')\n",
    "\n",
    "#plt.show()\n",
    "print('Коефіцієнт бета_0 = {}, Коефіцієнт бета_1 = {}'.format(a_0,a_1))"
   ]
  },
  {
   "cell_type": "markdown",
   "metadata": {},
   "source": [
    "# VI. Однофакторний дисперсійний аналіз.\n",
    "\n",
    " За вибіркою E з рівнем значущості $\\alpha=0,05$ перевірити гіпотезу про суттєвість впливу фактору F на відгук."
   ]
  },
  {
   "cell_type": "code",
   "execution_count": 73,
   "metadata": {},
   "outputs": [
    {
     "name": "stdout",
     "output_type": "stream",
     "text": [
      "[array([29, 24]) array([31, 26, 22]) array([22, 27, 29, 30])\n",
      " array([18, 27, 19, 27, 21]) array([26, 22, 29, 31])\n",
      " array([22, 24, 26, 28]) array([26, 24, 28])]\n"
     ]
    }
   ],
   "source": [
    "e = np.array([[29, 24],[31,26,22],[22,27,29,30],[18,27,19,27,21],[26,22,29,31],\n",
    "                                                      [22,24,26,28],[26,24,28]])\n",
    "E = np.array([np.array(i) for i in e])\n",
    "print(E)"
   ]
  },
  {
   "cell_type": "markdown",
   "metadata": {},
   "source": [
    "\n",
    "## $H_0 :$ вплив факторів - суттєвий.\n",
    "## $H_1 :$ вплив факторів - не суттєвий."
   ]
  },
  {
   "cell_type": "code",
   "execution_count": 74,
   "metadata": {},
   "outputs": [
    {
     "name": "stdout",
     "output_type": "stream",
     "text": [
      "середнє по всіх групах =  25.52\n"
     ]
    }
   ],
   "source": [
    "overall_mean = np.sum([np.sum([observation  for observation in group]) for group in E])/25\n",
    "print('середнє по всіх групах = ',overall_mean)"
   ]
  },
  {
   "cell_type": "code",
   "execution_count": 75,
   "metadata": {},
   "outputs": [
    {
     "data": {
      "text/plain": [
       "[26.5, 26.333333333333332, 27.0, 22.399999999999999, 27.0, 25.0, 26.0]"
      ]
     },
     "execution_count": 75,
     "metadata": {},
     "output_type": "execute_result"
    }
   ],
   "source": [
    "[group.mean() for group in E]"
   ]
  },
  {
   "cell_type": "code",
   "execution_count": 76,
   "metadata": {},
   "outputs": [
    {
     "data": {
      "text/plain": [
       "[3.5355339059327378,\n",
       " 4.5092497528228943,\n",
       " 3.5590260840104371,\n",
       " 4.3358966777357599,\n",
       " 3.9157800414902435,\n",
       " 2.5819888974716112,\n",
       " 2.0]"
      ]
     },
     "execution_count": 76,
     "metadata": {},
     "output_type": "execute_result"
    }
   ],
   "source": [
    "[group.std(ddof =1) for group in E]\n"
   ]
  },
  {
   "cell_type": "code",
   "execution_count": 77,
   "metadata": {},
   "outputs": [
    {
     "name": "stdout",
     "output_type": "stream",
     "text": [
      "TTS =  312.24\n",
      "SST =  71.8733333333\n",
      "SSE =  240.366666667\n",
      "TSS = SST + SSE = 312.24\n"
     ]
    }
   ],
   "source": [
    "TSS = np.sum([np.sum([(observation - overall_mean)**2 for observation in group]) for group in E])\n",
    "\n",
    "SST = np.sum([(len(group))*((group.mean() - overall_mean)**2) for group in E])\n",
    "SSE = np.sum([(len(group))*(group.var()) for group in E])\n",
    "print('TTS = ', TSS)\n",
    "print('SST = ', SST)\n",
    "print('SSE = ', SSE)\n",
    "\n",
    "print('TSS = SST + SSE =', SST+SSE)"
   ]
  },
  {
   "cell_type": "code",
   "execution_count": 78,
   "metadata": {},
   "outputs": [
    {
     "name": "stdout",
     "output_type": "stream",
     "text": [
      "MST =  11.9788888889\n",
      "MSE =  13.3537037037\n",
      "F =  0.897046179448\n",
      "Критичне значення F =  4.01463650735\n"
     ]
    }
   ],
   "source": [
    "MST = SST/(len(E) -1)\n",
    "MSE = SSE/(25 - 7)\n",
    "\n",
    "F = MST/MSE\n",
    "\n",
    "print('MST = ', MST)\n",
    "print('MSE = ',MSE)\n",
    "print('F = ', F)\n",
    "\n",
    "# Знайдемо критичне значення для F \n",
    "crit = stats.f.ppf(q=1-0.01, dfn=7-1, dfd=25-7)\n",
    "print('Критичне значення F = ',crit)"
   ]
  },
  {
   "cell_type": "markdown",
   "metadata": {},
   "source": [
    "### порівняємо результати з вбудованим тестом"
   ]
  },
  {
   "cell_type": "code",
   "execution_count": 79,
   "metadata": {},
   "outputs": [
    {
     "data": {
      "text/plain": [
       "F_onewayResult(statistic=0.89704617944806531, pvalue=0.51802195250405703)"
      ]
     },
     "execution_count": 79,
     "metadata": {},
     "output_type": "execute_result"
    }
   ],
   "source": [
    "stats.f_oneway([29, 24],[31,26,22],[22,27,29,30],[18,27,19,27,21],[26,22,29,31],[22,24,26,28],[26,24,28])"
   ]
  },
  {
   "cell_type": "code",
   "execution_count": null,
   "metadata": {
    "collapsed": true
   },
   "outputs": [],
   "source": [
    "stats.f_oneway([41],[25,33,29,33],[22,29,38,34],[32,35,22,37,36],[29,30],[22,24,26,28],[26,24,28])"
   ]
  },
  {
   "cell_type": "markdown",
   "metadata": {},
   "source": [
    "## Висновок\n",
    "\n",
    "Оскільки отримане значення F менше за критичне, ми відхиляємо гіпотезу про суттєвість впливу чинників, і приймаємо альтернативну гіпотезу що групи рівномірні.\n",
    "\n",
    "Це також можна спостерігати з того, що значення F близьке до 1."
   ]
  },
  {
   "cell_type": "markdown",
   "metadata": {},
   "source": [
    "# Завдання 6.\n",
    " $2.$ За результатами колоквіуму студентів 4 курсу 2018 року перевірити гіпотезу про однорідність груп.\n",
    " $$\\alpha = 0 , 05$$"
   ]
  },
  {
   "cell_type": "code",
   "execution_count": 38,
   "metadata": {},
   "outputs": [
    {
     "data": {
      "text/html": [
       "<div>\n",
       "<style>\n",
       "    .dataframe thead tr:only-child th {\n",
       "        text-align: right;\n",
       "    }\n",
       "\n",
       "    .dataframe thead th {\n",
       "        text-align: left;\n",
       "    }\n",
       "\n",
       "    .dataframe tbody tr th {\n",
       "        vertical-align: top;\n",
       "    }\n",
       "</style>\n",
       "<table border=\"1\" class=\"dataframe\">\n",
       "  <thead>\n",
       "    <tr style=\"text-align: right;\">\n",
       "      <th></th>\n",
       "      <th>група</th>\n",
       "      <th>бали</th>\n",
       "    </tr>\n",
       "  </thead>\n",
       "  <tbody>\n",
       "    <tr>\n",
       "      <th>1</th>\n",
       "      <td>42.0</td>\n",
       "      <td>10.5</td>\n",
       "    </tr>\n",
       "    <tr>\n",
       "      <th>2</th>\n",
       "      <td>42.0</td>\n",
       "      <td>9.4</td>\n",
       "    </tr>\n",
       "    <tr>\n",
       "      <th>3</th>\n",
       "      <td>41.0</td>\n",
       "      <td>9.0</td>\n",
       "    </tr>\n",
       "    <tr>\n",
       "      <th>4</th>\n",
       "      <td>42.0</td>\n",
       "      <td>9.0</td>\n",
       "    </tr>\n",
       "    <tr>\n",
       "      <th>5</th>\n",
       "      <td>42.0</td>\n",
       "      <td>9.0</td>\n",
       "    </tr>\n",
       "  </tbody>\n",
       "</table>\n",
       "</div>"
      ],
      "text/plain": [
       "   група  бали\n",
       "1   42.0  10.5\n",
       "2   42.0   9.4\n",
       "3   41.0   9.0\n",
       "4   42.0   9.0\n",
       "5   42.0   9.0"
      ]
     },
     "execution_count": 38,
     "metadata": {},
     "output_type": "execute_result"
    }
   ],
   "source": [
    "import pandas as pd\n",
    "\n",
    "df = pd.read_excel('2018.xlsx')\n",
    "\n",
    "df.replace([\"NaN\"], np.nan, inplace = True)\n",
    "df = df.dropna(axis = 1, how='all')\n",
    "df = df[['група','бали']]\n",
    "df = df[1:]\n",
    "\n",
    "df.head()"
   ]
  },
  {
   "cell_type": "code",
   "execution_count": 39,
   "metadata": {},
   "outputs": [
    {
     "name": "stdout",
     "output_type": "stream",
     "text": [
      "\n",
      "В першій групі - 21 оцінка,\n",
      "В другій групі - 25 оцінок,\n",
      "В третій групі - 18 оцінок,\n",
      "\n"
     ]
    }
   ],
   "source": [
    "g_1 = df.loc[df['група'] == 41]\n",
    "g_2 = df.loc[df['група'] == 42]\n",
    "g_3 = df.loc[df['група'] == 43]\n",
    "g_3 = g_3.loc[df['бали'] != 0]\n",
    "\n",
    "print('''\n",
    "В першій групі - {} оцінка,\n",
    "В другій групі - {} оцінок,\n",
    "В третій групі - {} оцінок,\n",
    "'''.format(len(g_1), len(g_2), len(g_3)))"
   ]
  },
  {
   "cell_type": "markdown",
   "metadata": {},
   "source": [
    "### Застосуємо критерій Вілкоксона для двох пар вибірок - оцінок МТМ41 та МТМ42 а також МТМ42 та МТМ43.\n",
    "### Гіпотеза $H_0$ - всі вибірки однорідні."
   ]
  },
  {
   "cell_type": "code",
   "execution_count": 40,
   "metadata": {
    "collapsed": true
   },
   "outputs": [],
   "source": [
    "def join_groups(x,y):\n",
    "    frames = [x, y]\n",
    "    return pd.concat(frames)"
   ]
  },
  {
   "cell_type": "code",
   "execution_count": 41,
   "metadata": {
    "collapsed": true
   },
   "outputs": [],
   "source": [
    "g_12 = join_groups(g_1, g_2)"
   ]
  },
  {
   "cell_type": "code",
   "execution_count": 42,
   "metadata": {},
   "outputs": [
    {
     "data": {
      "text/html": [
       "<div>\n",
       "<style>\n",
       "    .dataframe thead tr:only-child th {\n",
       "        text-align: right;\n",
       "    }\n",
       "\n",
       "    .dataframe thead th {\n",
       "        text-align: left;\n",
       "    }\n",
       "\n",
       "    .dataframe tbody tr th {\n",
       "        vertical-align: top;\n",
       "    }\n",
       "</style>\n",
       "<table border=\"1\" class=\"dataframe\">\n",
       "  <thead>\n",
       "    <tr style=\"text-align: right;\">\n",
       "      <th></th>\n",
       "      <th>група</th>\n",
       "      <th>бали</th>\n",
       "      <th>Rank</th>\n",
       "    </tr>\n",
       "  </thead>\n",
       "  <tbody>\n",
       "    <tr>\n",
       "      <th>3</th>\n",
       "      <td>41.0</td>\n",
       "      <td>9.0</td>\n",
       "      <td>43.0</td>\n",
       "    </tr>\n",
       "    <tr>\n",
       "      <th>6</th>\n",
       "      <td>41.0</td>\n",
       "      <td>8.9</td>\n",
       "      <td>41.0</td>\n",
       "    </tr>\n",
       "    <tr>\n",
       "      <th>17</th>\n",
       "      <td>41.0</td>\n",
       "      <td>6.6</td>\n",
       "      <td>32.5</td>\n",
       "    </tr>\n",
       "    <tr>\n",
       "      <th>22</th>\n",
       "      <td>41.0</td>\n",
       "      <td>5.8</td>\n",
       "      <td>28.5</td>\n",
       "    </tr>\n",
       "    <tr>\n",
       "      <th>25</th>\n",
       "      <td>41.0</td>\n",
       "      <td>5.6</td>\n",
       "      <td>27.0</td>\n",
       "    </tr>\n",
       "  </tbody>\n",
       "</table>\n",
       "</div>"
      ],
      "text/plain": [
       "    група  бали  Rank\n",
       "3    41.0   9.0  43.0\n",
       "6    41.0   8.9  41.0\n",
       "17   41.0   6.6  32.5\n",
       "22   41.0   5.8  28.5\n",
       "25   41.0   5.6  27.0"
      ]
     },
     "execution_count": 42,
     "metadata": {},
     "output_type": "execute_result"
    }
   ],
   "source": [
    "g_12['Rank'] = g_12 ['бали'].rank()\n",
    "g_12.head()"
   ]
  },
  {
   "cell_type": "code",
   "execution_count": 43,
   "metadata": {
    "collapsed": true
   },
   "outputs": [],
   "source": [
    "g_1r = g_12.loc[df['група'] == 41]\n",
    "g_2r = g_12.loc[df['група'] == 42]\n"
   ]
  },
  {
   "cell_type": "code",
   "execution_count": 44,
   "metadata": {},
   "outputs": [
    {
     "name": "stdout",
     "output_type": "stream",
     "text": [
      "\n",
      "сума рангів першої групи = 411.5;\n",
      "сума рангів другої групи = 669.5;\n",
      "\n"
     ]
    }
   ],
   "source": [
    "sum_1 = g_1r['Rank'].sum()\n",
    "sum_2 = g_2r['Rank'].sum()\n",
    "\n",
    "print('''\n",
    "сума рангів першої групи = {};\n",
    "сума рангів другої групи = {};\n",
    "'''.format(sum_1,sum_2))"
   ]
  },
  {
   "cell_type": "code",
   "execution_count": 45,
   "metadata": {},
   "outputs": [
    {
     "name": "stdout",
     "output_type": "stream",
     "text": [
      "\n",
      "очікувана сума рангів першої групи = 493.5;\n",
      "очікувана сума рангів другої групи = 587.5;\n",
      "дисперсія = 2056.25\n",
      "\n"
     ]
    }
   ],
   "source": [
    "expected_s1 = (len(g_1)*(len(g_1)+len(g_2) +1 ))/2\n",
    "expected_s2 = (len(g_2)*(len(g_1)+len(g_2) +1 ))/2\n",
    "\n",
    "d = (len(g_1)*len(g_2)*(len(g_1)+len(g_2) +1 ))/12\n",
    "print('''\n",
    "очікувана сума рангів першої групи = {};\n",
    "очікувана сума рангів другої групи = {};\n",
    "дисперсія = {}\n",
    "'''.format(expected_s1,expected_s2,d))"
   ]
  },
  {
   "cell_type": "code",
   "execution_count": 46,
   "metadata": {},
   "outputs": [
    {
     "name": "stdout",
     "output_type": "stream",
     "text": [
      "\n",
      "T1 = -1.808322536257506;\n",
      "T2 = 1.808322536257506;\n",
      "\n"
     ]
    }
   ],
   "source": [
    "t_1 = (sum_1 - expected_s1)/np.sqrt(d)\n",
    "t_2 = (sum_2 - expected_s2)/np.sqrt(d)\n",
    "\n",
    "print('''\n",
    "T1 = {};\n",
    "T2 = {};\n",
    "'''.format(t_1,t_2))"
   ]
  },
  {
   "cell_type": "code",
   "execution_count": 47,
   "metadata": {},
   "outputs": [
    {
     "name": "stdout",
     "output_type": "stream",
     "text": [
      "\n",
      "T1 критичне = -1.9599639845400545;\n",
      "T2 критичне = 1.959963984540054;\n",
      "\n"
     ]
    }
   ],
   "source": [
    "t1_crit = stats.norm.ppf(q=0.025)\n",
    "t2_crit = stats.norm.ppf(q=0.975)\n",
    "\n",
    "print('''\n",
    "T1 критичне = {};\n",
    "T2 критичне = {};\n",
    "'''.format(t1_crit,t2_crit))"
   ]
  },
  {
   "cell_type": "markdown",
   "metadata": {},
   "source": [
    "### Висновок.\n",
    " Оскільки отримані значення статистик Т потрапляють в допустимий діапазон, то ми не маєм підстав відхиляти гіпотезу \n",
    " $H_0$ для першої та другої групи."
   ]
  },
  {
   "cell_type": "code",
   "execution_count": 48,
   "metadata": {
    "collapsed": true
   },
   "outputs": [],
   "source": [
    "g_23 = join_groups(g_2, g_3)"
   ]
  },
  {
   "cell_type": "code",
   "execution_count": 49,
   "metadata": {
    "collapsed": true
   },
   "outputs": [],
   "source": [
    "g_23['Rank'] = g_23 ['бали'].rank()"
   ]
  },
  {
   "cell_type": "code",
   "execution_count": 50,
   "metadata": {
    "collapsed": true
   },
   "outputs": [],
   "source": [
    "g_2r = g_23.loc[df['група'] == 42]\n",
    "g_3r = g_23.loc[df['група'] == 43]"
   ]
  },
  {
   "cell_type": "code",
   "execution_count": 51,
   "metadata": {},
   "outputs": [
    {
     "name": "stdout",
     "output_type": "stream",
     "text": [
      "\n",
      "сума рангів другої групи = 411.5;\n",
      "сума рангів третьої групи = 638.0;\n",
      "\n"
     ]
    }
   ],
   "source": [
    "sum_2 = g_2r['Rank'].sum()\n",
    "sum_3 = g_3r['Rank'].sum()\n",
    "\n",
    "print('''\n",
    "сума рангів другої групи = {};\n",
    "сума рангів третьої групи = {};\n",
    "'''.format(sum_1,sum_2))"
   ]
  },
  {
   "cell_type": "code",
   "execution_count": 52,
   "metadata": {},
   "outputs": [
    {
     "name": "stdout",
     "output_type": "stream",
     "text": [
      "\n",
      "очікувана сума рангів другої групи = 550.0;\n",
      "очікувана сума рангів третьої групи = 396.0;\n",
      "дисперсія = 1650.0\n",
      "\n"
     ]
    }
   ],
   "source": [
    "expected_s2 = (len(g_2)*(len(g_2)+len(g_3) +1 ))/2\n",
    "expected_s3 = (len(g_3)*(len(g_2)+len(g_3) +1 ))/2\n",
    "\n",
    "d = (len(g_2)*len(g_3)*(len(g_2)+len(g_3) +1 ))/12\n",
    "print('''\n",
    "очікувана сума рангів другої групи = {};\n",
    "очікувана сума рангів третьої групи = {};\n",
    "дисперсія = {}\n",
    "'''.format(expected_s2,expected_s3,d))"
   ]
  },
  {
   "cell_type": "code",
   "execution_count": 53,
   "metadata": {},
   "outputs": [
    {
     "name": "stdout",
     "output_type": "stream",
     "text": [
      "\n",
      "T1 = 2.166410241236256;\n",
      "T2 = -2.166410241236256;\n",
      "\n"
     ]
    }
   ],
   "source": [
    "t_1 = (sum_2 - expected_s2)/np.sqrt(d)\n",
    "t_2 = (sum_3 - expected_s3)/np.sqrt(d)\n",
    "\n",
    "print('''\n",
    "T1 = {};\n",
    "T2 = {};\n",
    "'''.format(t_1,t_2))"
   ]
  },
  {
   "cell_type": "code",
   "execution_count": 54,
   "metadata": {},
   "outputs": [
    {
     "name": "stdout",
     "output_type": "stream",
     "text": [
      "\n",
      "T1 критичне = -1.9599639845400545;\n",
      "T2 критичне = 1.959963984540054;\n",
      "\n"
     ]
    }
   ],
   "source": [
    "t1_crit = stats.norm.ppf(q=0.025)\n",
    "t2_crit = stats.norm.ppf(q=0.975)\n",
    "\n",
    "print('''\n",
    "T1 критичне = {};\n",
    "T2 критичне = {};\n",
    "'''.format(t1_crit,t2_crit))"
   ]
  },
  {
   "cell_type": "markdown",
   "metadata": {},
   "source": [
    "### Висновок.\n",
    " Оскільки отримані значення статистик Т  не потрапляють в допустимий діапазон, то ми відхиляємо гіпотезу \n",
    " $H_0$ для другої та третьої групи."
   ]
  },
  {
   "cell_type": "code",
   "execution_count": 55,
   "metadata": {
    "collapsed": true
   },
   "outputs": [],
   "source": [
    "g_13 = join_groups(g_1, g_3)"
   ]
  },
  {
   "cell_type": "code",
   "execution_count": 56,
   "metadata": {
    "collapsed": true
   },
   "outputs": [],
   "source": [
    "g_13['Rank'] = g_13 ['бали'].rank()"
   ]
  },
  {
   "cell_type": "code",
   "execution_count": 57,
   "metadata": {
    "collapsed": true
   },
   "outputs": [],
   "source": [
    "g_1r = g_13.loc[df['група'] == 41]\n",
    "g_3r = g_13.loc[df['група'] == 43]"
   ]
  },
  {
   "cell_type": "code",
   "execution_count": 58,
   "metadata": {},
   "outputs": [
    {
     "name": "stdout",
     "output_type": "stream",
     "text": [
      "\n",
      "сума рангів першої групи = 431.0;\n",
      "сума рангів третьої групи = 349.0;\n",
      "\n"
     ]
    }
   ],
   "source": [
    "sum_1 = g_1r['Rank'].sum()\n",
    "sum_3 = g_3r['Rank'].sum()\n",
    "\n",
    "print('''\n",
    "сума рангів першої групи = {};\n",
    "сума рангів третьої групи = {};\n",
    "'''.format(sum_1,sum_3))"
   ]
  },
  {
   "cell_type": "code",
   "execution_count": 59,
   "metadata": {},
   "outputs": [
    {
     "name": "stdout",
     "output_type": "stream",
     "text": [
      "\n",
      "очікувана сума рангів другої групи = 550.0;\n",
      "очікувана сума рангів третьої групи = 360.0;\n",
      "дисперсія = 1260.0\n",
      "\n"
     ]
    }
   ],
   "source": [
    "expected_s1 = (len(g_1)*(len(g_1)+len(g_3) +1 ))/2\n",
    "expected_s3 = (len(g_3)*(len(g_1)+len(g_3) +1 ))/2\n",
    "\n",
    "d = (len(g_1)*len(g_3)*(len(g_1)+len(g_3) +1 ))/12\n",
    "print('''\n",
    "очікувана сума рангів другої групи = {};\n",
    "очікувана сума рангів третьої групи = {};\n",
    "дисперсія = {}\n",
    "'''.format(expected_s2,expected_s3,d))"
   ]
  },
  {
   "cell_type": "code",
   "execution_count": 60,
   "metadata": {},
   "outputs": [
    {
     "name": "stdout",
     "output_type": "stream",
     "text": [
      "\n",
      "T1 = 0.3098898934004561;\n",
      "T2 = -0.3098898934004561;\n",
      "\n"
     ]
    }
   ],
   "source": [
    "t_1 = (sum_1 - expected_s1)/np.sqrt(d)\n",
    "t_2 = (sum_3 - expected_s3)/np.sqrt(d)\n",
    "\n",
    "print('''\n",
    "T1 = {};\n",
    "T2 = {};\n",
    "'''.format(t_1,t_2))"
   ]
  },
  {
   "cell_type": "markdown",
   "metadata": {},
   "source": [
    "##  Висновок.\n",
    "\n",
    "Групи МТМ41 та МТМ42, а також МТМ41 та МТМ43 мають однорідні бали за колоквіум, але для заданого рівня значущості\n",
    "групи МТМ42 та МТМ43 є неоднорідними, а отже, при $\\alpha = 0.05$ ми відхиляємо гіпотезу про однорідність груп."
   ]
  }
 ],
 "metadata": {
  "kernelspec": {
   "display_name": "Python 3",
   "language": "python",
   "name": "python3"
  },
  "language_info": {
   "codemirror_mode": {
    "name": "ipython",
    "version": 3
   },
   "file_extension": ".py",
   "mimetype": "text/x-python",
   "name": "python",
   "nbconvert_exporter": "python",
   "pygments_lexer": "ipython3",
   "version": "3.6.3"
  }
 },
 "nbformat": 4,
 "nbformat_minor": 2
}
