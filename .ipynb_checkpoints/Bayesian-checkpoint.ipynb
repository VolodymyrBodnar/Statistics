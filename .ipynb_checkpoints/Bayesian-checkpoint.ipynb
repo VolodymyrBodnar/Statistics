{
 "cells": [
  {
   "cell_type": "code",
   "execution_count": 2,
   "metadata": {},
   "outputs": [],
   "source": [
    "import numpy as np\n",
    "import pymc"
   ]
  },
  {
   "cell_type": "markdown",
   "metadata": {},
   "source": [
    "# Generate data with noise"
   ]
  },
  {
   "cell_type": "code",
   "execution_count": 5,
   "metadata": {},
   "outputs": [],
   "source": [
    "number_points     = 20\n",
    "true_coefficients = [10.4, 5.5]\n",
    "x                 = np.linspace(0, 10, number_points)\n",
    "noise             = np.random.normal(size = number_points)\n",
    "data              = true_coefficients[0]*x + true_coefficients[1] + noise"
   ]
  },
  {
   "cell_type": "code",
   "execution_count": 6,
   "metadata": {
    "collapsed": true
   },
   "outputs": [],
   "source": [
    "sigma = pymc.Uniform('sigma', 0., 100.)\n",
    "a     = pymc.Uniform('a', 0., 20.)\n",
    "b     = pymc.Uniform('b', 0., 20.)"
   ]
  },
  {
   "cell_type": "code",
   "execution_count": 7,
   "metadata": {
    "collapsed": true
   },
   "outputs": [],
   "source": [
    "@pymc.deterministic(plot=False)\n",
    "def linear_fit(a=a, b=b, x=x):\n",
    "      return a*x + b"
   ]
  },
  {
   "cell_type": "code",
   "execution_count": 8,
   "metadata": {
    "collapsed": true
   },
   "outputs": [],
   "source": [
    "y = pymc.Normal('y', mu=linear_fit, tau=1.0/sigma**2, value=data, observed=True)\n"
   ]
  },
  {
   "cell_type": "code",
   "execution_count": 9,
   "metadata": {},
   "outputs": [
    {
     "ename": "ModuleNotFoundError",
     "evalue": "No module named 'model'",
     "output_type": "error",
     "traceback": [
      "\u001b[0;31m---------------------------------------------------------------------------\u001b[0m",
      "\u001b[0;31mModuleNotFoundError\u001b[0m                       Traceback (most recent call last)",
      "\u001b[0;32m<ipython-input-9-5a777a2999b9>\u001b[0m in \u001b[0;36m<module>\u001b[0;34m()\u001b[0m\n\u001b[1;32m      2\u001b[0m \u001b[0;32mfrom\u001b[0m \u001b[0mmatplotlib\u001b[0m\u001b[0;34m.\u001b[0m\u001b[0mpyplot\u001b[0m \u001b[0;32mimport\u001b[0m \u001b[0mfigure\u001b[0m\u001b[0;34m,\u001b[0m \u001b[0mplot\u001b[0m\u001b[0;34m,\u001b[0m \u001b[0mshow\u001b[0m\u001b[0;34m,\u001b[0m \u001b[0mlegend\u001b[0m\u001b[0;34m\u001b[0m\u001b[0m\n\u001b[1;32m      3\u001b[0m \u001b[0;32mimport\u001b[0m \u001b[0mpymc\u001b[0m\u001b[0;34m\u001b[0m\u001b[0m\n\u001b[0;32m----> 4\u001b[0;31m \u001b[0;32mimport\u001b[0m \u001b[0mmodel\u001b[0m\u001b[0;34m\u001b[0m\u001b[0m\n\u001b[0m\u001b[1;32m      5\u001b[0m \u001b[0;34m\u001b[0m\u001b[0m\n\u001b[1;32m      6\u001b[0m \u001b[0;31m#Define MCMC:\u001b[0m\u001b[0;34m\u001b[0m\u001b[0;34m\u001b[0m\u001b[0m\n",
      "\u001b[0;31mModuleNotFoundError\u001b[0m: No module named 'model'"
     ]
    }
   ],
   "source": [
    "from numpy             import polyfit\n",
    "from matplotlib.pyplot import figure, plot, show, legend\n",
    "import pymc\n",
    "\n",
    "#Define MCMC:\n",
    "D = pymc.MCMC(model, db = 'pickle')\n",
    "\n",
    "#Sample MCMC: 10000 iterations, burn-in period is 1000\n",
    "D.sample(iter = 10000, burn = 1000)\n",
    "\n",
    "\n",
    "#compute chi-squared fitting for comparison:\n",
    "chisq_result = polyfit(model.x, model.data, 1)\n",
    "\n",
    "#print the results:\n",
    "print (\"\\n\\nResult of chi-square result: a= %f, b= %f\" % (chisq_result[0], chisq_result[1]))\n",
    "print (\"\\nResult of Bayesian analysis: a= %f, b= %f\" % (D.a.value, D.b.value))\n",
    "print (\"\\nThe real coefficients are:   a= %f, b= %f\\n\" %(model.true_coefficients[0], model.true_coefficients[1]))\n",
    "\n",
    "#plot graphs from MCMC:\n",
    "pymc.Matplot.plot(D)\n",
    "\n",
    "#plot noised data, true line and two fitted lines (bayes and chi-squared):\n",
    "figure()\n",
    "plot(model.x, model.data, marker='+', linestyle='')\n",
    "plot(model.x, D.a.value * model.x + D.b.value, color='g', label='Bayes')\n",
    "plot(model.x, chisq_result[0] * model.x + chisq_result[1], color='r', label='Chi-squared')\n",
    "plot(model.x, model.true_coefficients[0] * model.x + model.true_coefficients[1], color='k', label='Data')\n",
    "legend()\n",
    "show()"
   ]
  }
 ],
 "metadata": {
  "kernelspec": {
   "display_name": "Python 3",
   "language": "python",
   "name": "python3"
  },
  "language_info": {
   "codemirror_mode": {
    "name": "ipython",
    "version": 3
   },
   "file_extension": ".py",
   "mimetype": "text/x-python",
   "name": "python",
   "nbconvert_exporter": "python",
   "pygments_lexer": "ipython3",
   "version": "3.6.3"
  }
 },
 "nbformat": 4,
 "nbformat_minor": 2
}
