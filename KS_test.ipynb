{
 "cells": [
  {
   "cell_type": "code",
   "execution_count": 2,
   "metadata": {
    "collapsed": true
   },
   "outputs": [],
   "source": [
    "import numpy as np\n",
    "import matplotlib.pyplot as plt\n",
    "from scipy import stats\n"
   ]
  },
  {
   "cell_type": "markdown",
   "metadata": {},
   "source": [
    "# Генеруємо нормально розподілену вибірку"
   ]
  },
  {
   "cell_type": "code",
   "execution_count": 3,
   "metadata": {
    "collapsed": true
   },
   "outputs": [],
   "source": [
    "x = np.random.normal(0,1,1000)"
   ]
  },
  {
   "cell_type": "markdown",
   "metadata": {},
   "source": [
    "### виведемо гістограму розподілу\n"
   ]
  },
  {
   "cell_type": "code",
   "execution_count": 4,
   "metadata": {},
   "outputs": [
    {
     "data": {
      "image/png": "[encoded data removed]",
      "text/plain": [
       "<matplotlib.figure.Figure at 0x7f12b6c3fe48>"
      ]
     },
     "metadata": {},
     "output_type": "display_data"
    }
   ],
   "source": [
    "_ = plt.hist(x,35)\n",
    "plt.show()\n"
   ]
  },
  {
   "cell_type": "markdown",
   "metadata": {},
   "source": [
    "# Формуємо емпіричну функцію розподілу"
   ]
  },
  {
   "cell_type": "code",
   "execution_count": 5,
   "metadata": {},
   "outputs": [
    {
     "data": {
      "image/png": "[encoded data removed]",
      "text/plain": [
       "<matplotlib.figure.Figure at 0x7f12ce791198>"
      ]
     },
     "metadata": {},
     "output_type": "display_data"
    }
   ],
   "source": [
    "# сортуємо вибріку\n",
    "data = np.sort(x)\n",
    "\n",
    "num_bins = 35\n",
    "\n",
    "# Use the histogram function to bin the data\n",
    "counts, bin_edges = np.histogram(data, bins=num_bins)\n",
    "\n",
    "# Now find the cdf\n",
    "ecdf = np.cumsum(counts)\n",
    "ecdf = ecdf/ecdf[-1]\n",
    "# And finally plot the cdf\n",
    "plt.step(bin_edges[1:], ecdf)\n",
    "\n",
    "plt.show()\n"
   ]
  },
  {
   "cell_type": "markdown",
   "metadata": {},
   "source": [
    "## Рахуємо теоретичну функцію розподілу\n"
   ]
  },
  {
   "cell_type": "code",
   "execution_count": 6,
   "metadata": {},
   "outputs": [
    {
     "data": {
      "image/png": "[encoded data removed]",
      "text/plain": [
       "<matplotlib.figure.Figure at 0x7fe13570f9b0>"
      ]
     },
     "metadata": {},
     "output_type": "display_data"
    },
    {
     "name": "stdout",
     "output_type": "stream",
     "text": [
      "mean is 0.024478076263916064\n",
      "std is 0.986803315696748\n"
     ]
    }
   ],
   "source": [
    "mean = np.mean(x)\n",
    "std =  np.std(x)\n",
    "\n",
    "t = np.random.normal(mean, std, 1000)\n",
    "data = np.sort(t)\n",
    "num_bins = 35\n",
    "\n",
    "# Use the histogram function to bin the data\n",
    "counts, bin_edges = np.histogram(data, bins=num_bins)\n",
    "\n",
    "# Now find the cdf\n",
    "cdf = np.cumsum(counts)\n",
    "cdf = cdf/cdf[-1]\n",
    "# And finally plot the cdfb\n",
    "plt.plot(bin_edges[1:], cdf)\n",
    "\n",
    "plt.show()\n",
    "print('mean is {}'.format(mean))\n",
    "print('std is {}'.format(std))\n"
   ]
  },
  {
   "cell_type": "markdown",
   "metadata": {},
   "source": [
    "# Рахуємо критичні значення  D для рівня значущості альфа"
   ]
  },
  {
   "cell_type": "code",
   "execution_count": 7,
   "metadata": {},
   "outputs": [
    {
     "name": "stdout",
     "output_type": "stream",
     "text": [
      "критичне значення = 0.2295610548762864\n"
     ]
    }
   ],
   "source": [
    "alpha = 0.05\n",
    "critical_val = np.math.sqrt((-1/2) * np.log(alpha/2))/ np.math.sqrt(35) \n",
    "print('критичне значення = {}'.format(critical_val))\n"
   ]
  },
  {
   "cell_type": "markdown",
   "metadata": {},
   "source": [
    "#  Використаємо вбудовану функцію для решти роботи"
   ]
  },
  {
   "cell_type": "code",
   "execution_count": 8,
   "metadata": {},
   "outputs": [
    {
     "data": {
      "text/plain": [
       "Ks_2sampResult(statistic=0.085714285714285743, pvalue=0.99913063917515277)"
      ]
     },
     "execution_count": 8,
     "metadata": {},
     "output_type": "execute_result"
    }
   ],
   "source": [
    "stats.ks_2samp( cdf,ecdf)"
   ]
  },
  {
   "cell_type": "markdown",
   "metadata": {},
   "source": [
    "# Тепер перевіримо для справжньої вибірки"
   ]
  },
  {
   "cell_type": "code",
   "execution_count": 600,
   "metadata": {
    "collapsed": true
   },
   "outputs": [],
   "source": [
    "import pandas as pd\n",
    "\n",
    "df = pd.read_csv('forestfires.csv')\n",
    "\n",
    "df = df['temp']"
   ]
  },
  {
   "cell_type": "code",
   "execution_count": 620,
   "metadata": {},
   "outputs": [
    {
     "data": {
      "image/png": "[encoded data removed]",
      "text/plain": [
       "<matplotlib.figure.Figure at 0x7f3a56f5b4a8>"
      ]
     },
     "metadata": {},
     "output_type": "display_data"
    }
   ],
   "source": [
    "_ = plt.hist(df,100)\n",
    "plt.show()"
   ]
  },
  {
   "cell_type": "markdown",
   "metadata": {},
   "source": [
    "## Отже нашою гіпотезою $H_0$ буде  що температура лісової пожежі нормально розподілена"
   ]
  },
  {
   "cell_type": "code",
   "execution_count": 604,
   "metadata": {},
   "outputs": [
    {
     "name": "stdout",
     "output_type": "stream",
     "text": [
      " Параметри розподілу а =  18.88916827852998, var =5.8010069395983646\n"
     ]
    }
   ],
   "source": [
    "mean = np.mean(df)\n",
    "std = np.std(df)\n",
    "print(' Параметри розподілу а =  {}, var ={}'.format(mean, std))"
   ]
  },
  {
   "cell_type": "markdown",
   "metadata": {},
   "source": [
    "## Згенеруємо нормально розподілену вибірку з такими ж параметрами і проведемо тест Колмогорова-Смирнова для порівння цих двох вибірок"
   ]
  },
  {
   "cell_type": "code",
   "execution_count": 626,
   "metadata": {},
   "outputs": [
    {
     "data": {
      "image/png": "[encoded data removed]",
      "text/plain": [
       "<matplotlib.figure.Figure at 0x7f3a57038470>"
      ]
     },
     "metadata": {},
     "output_type": "display_data"
    },
    {
     "name": "stdout",
     "output_type": "stream",
     "text": [
      "Значення D = 0.07543520309477758\n"
     ]
    }
   ],
   "source": [
    "test = np.random.normal(mean, std, len(df))\n",
    "_ = plt.hist(test,100)\n",
    "plt.show()\n",
    "\n",
    "D, p_val = stats.ks_2samp(df,test)\n",
    "print('Значення D = {}'.format(D))"
   ]
  },
  {
   "cell_type": "code",
   "execution_count": 624,
   "metadata": {},
   "outputs": [
    {
     "name": "stdout",
     "output_type": "stream",
     "text": [
      "критичне значення = 0.05382589126218227\n"
     ]
    }
   ],
   "source": [
    "alpha = 0.1    print('Нульову гіпотезу приймаємо')\n",
    "\n",
    "critical_val = np.math.sqrt((-1/2) * np.log(alpha/2))/ np.math.sqrt(len(df)) \n",
    "print('критичне значення = {}'.format(critical_val))"
   ]
  },
  {
   "cell_type": "code",
   "execution_count": 627,
   "metadata": {},
   "outputs": [
    {
     "name": "stdout",
     "output_type": "stream",
     "text": [
      "Нульову гіпотезу не приймаємо\n"
     ]
    }
   ],
   "source": [
    "if D < critical_val:\n",
    "    print('Нульову гіпотезу приймаємо')\n",
    "else:\n",
    "    print('Нульову гіпотезу не приймаємо')\n"
   ]
  }
 ],
 "metadata": {
  "kernelspec": {
   "display_name": "Python 3",
   "language": "python",
   "name": "python3"
  },
  "language_info": {
   "codemirror_mode": {
    "name": "ipython",
    "version": 3
   },
   "file_extension": ".py",
   "mimetype": "text/x-python",
   "name": "python",
   "nbconvert_exporter": "python",
   "pygments_lexer": "ipython3",
   "version": "3.6.3"
  }
 },
 "nbformat": 4,
 "nbformat_minor": 2
}
